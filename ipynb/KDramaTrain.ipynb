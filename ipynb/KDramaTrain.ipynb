{
  "nbformat": 4,
  "nbformat_minor": 0,
  "metadata": {
    "colab": {
      "provenance": [],
      "toc_visible": true,
      "gpuType": "T4"
    },
    "kernelspec": {
      "name": "python3",
      "display_name": "Python 3"
    },
    "language_info": {
      "name": "python"
    },
    "accelerator": "GPU",
    "widgets": {
      "application/vnd.jupyter.widget-state+json": {
        "8b761f28d96240bfa6e080c7e54f3efc": {
          "model_module": "@jupyter-widgets/controls",
          "model_name": "HBoxModel",
          "model_module_version": "1.5.0",
          "state": {
            "_dom_classes": [],
            "_model_module": "@jupyter-widgets/controls",
            "_model_module_version": "1.5.0",
            "_model_name": "HBoxModel",
            "_view_count": null,
            "_view_module": "@jupyter-widgets/controls",
            "_view_module_version": "1.5.0",
            "_view_name": "HBoxView",
            "box_style": "",
            "children": [
              "IPY_MODEL_d32bf9c2f43a4a6da159080f812d80b9",
              "IPY_MODEL_6c6d1fdf3ae24e829d7018658621d9bb",
              "IPY_MODEL_c04bcc0d83d748a68c93e4f350349e63"
            ],
            "layout": "IPY_MODEL_3ac49db5732e43d3ae900c7c0476b853"
          }
        },
        "d32bf9c2f43a4a6da159080f812d80b9": {
          "model_module": "@jupyter-widgets/controls",
          "model_name": "HTMLModel",
          "model_module_version": "1.5.0",
          "state": {
            "_dom_classes": [],
            "_model_module": "@jupyter-widgets/controls",
            "_model_module_version": "1.5.0",
            "_model_name": "HTMLModel",
            "_view_count": null,
            "_view_module": "@jupyter-widgets/controls",
            "_view_module_version": "1.5.0",
            "_view_name": "HTMLView",
            "description": "",
            "description_tooltip": null,
            "layout": "IPY_MODEL_a8749d85b92e44bc9895f6d0b0e97b97",
            "placeholder": "​",
            "style": "IPY_MODEL_c6b989eea049441db36f57bea4f9705e",
            "value": "Batches: 100%"
          }
        },
        "6c6d1fdf3ae24e829d7018658621d9bb": {
          "model_module": "@jupyter-widgets/controls",
          "model_name": "FloatProgressModel",
          "model_module_version": "1.5.0",
          "state": {
            "_dom_classes": [],
            "_model_module": "@jupyter-widgets/controls",
            "_model_module_version": "1.5.0",
            "_model_name": "FloatProgressModel",
            "_view_count": null,
            "_view_module": "@jupyter-widgets/controls",
            "_view_module_version": "1.5.0",
            "_view_name": "ProgressView",
            "bar_style": "success",
            "description": "",
            "description_tooltip": null,
            "layout": "IPY_MODEL_1fdb872da7c64e8184b20cd07565abd7",
            "max": 16,
            "min": 0,
            "orientation": "horizontal",
            "style": "IPY_MODEL_422e11f8933f496489383a12de5c5f2b",
            "value": 16
          }
        },
        "c04bcc0d83d748a68c93e4f350349e63": {
          "model_module": "@jupyter-widgets/controls",
          "model_name": "HTMLModel",
          "model_module_version": "1.5.0",
          "state": {
            "_dom_classes": [],
            "_model_module": "@jupyter-widgets/controls",
            "_model_module_version": "1.5.0",
            "_model_name": "HTMLModel",
            "_view_count": null,
            "_view_module": "@jupyter-widgets/controls",
            "_view_module_version": "1.5.0",
            "_view_name": "HTMLView",
            "description": "",
            "description_tooltip": null,
            "layout": "IPY_MODEL_a9657d96afaf42bc9def7ebecd3134fc",
            "placeholder": "​",
            "style": "IPY_MODEL_68bed9de4274448898430f2c0cd7c272",
            "value": " 16/16 [00:41&lt;00:00,  1.23s/it]"
          }
        },
        "3ac49db5732e43d3ae900c7c0476b853": {
          "model_module": "@jupyter-widgets/base",
          "model_name": "LayoutModel",
          "model_module_version": "1.2.0",
          "state": {
            "_model_module": "@jupyter-widgets/base",
            "_model_module_version": "1.2.0",
            "_model_name": "LayoutModel",
            "_view_count": null,
            "_view_module": "@jupyter-widgets/base",
            "_view_module_version": "1.2.0",
            "_view_name": "LayoutView",
            "align_content": null,
            "align_items": null,
            "align_self": null,
            "border": null,
            "bottom": null,
            "display": null,
            "flex": null,
            "flex_flow": null,
            "grid_area": null,
            "grid_auto_columns": null,
            "grid_auto_flow": null,
            "grid_auto_rows": null,
            "grid_column": null,
            "grid_gap": null,
            "grid_row": null,
            "grid_template_areas": null,
            "grid_template_columns": null,
            "grid_template_rows": null,
            "height": null,
            "justify_content": null,
            "justify_items": null,
            "left": null,
            "margin": null,
            "max_height": null,
            "max_width": null,
            "min_height": null,
            "min_width": null,
            "object_fit": null,
            "object_position": null,
            "order": null,
            "overflow": null,
            "overflow_x": null,
            "overflow_y": null,
            "padding": null,
            "right": null,
            "top": null,
            "visibility": null,
            "width": null
          }
        },
        "a8749d85b92e44bc9895f6d0b0e97b97": {
          "model_module": "@jupyter-widgets/base",
          "model_name": "LayoutModel",
          "model_module_version": "1.2.0",
          "state": {
            "_model_module": "@jupyter-widgets/base",
            "_model_module_version": "1.2.0",
            "_model_name": "LayoutModel",
            "_view_count": null,
            "_view_module": "@jupyter-widgets/base",
            "_view_module_version": "1.2.0",
            "_view_name": "LayoutView",
            "align_content": null,
            "align_items": null,
            "align_self": null,
            "border": null,
            "bottom": null,
            "display": null,
            "flex": null,
            "flex_flow": null,
            "grid_area": null,
            "grid_auto_columns": null,
            "grid_auto_flow": null,
            "grid_auto_rows": null,
            "grid_column": null,
            "grid_gap": null,
            "grid_row": null,
            "grid_template_areas": null,
            "grid_template_columns": null,
            "grid_template_rows": null,
            "height": null,
            "justify_content": null,
            "justify_items": null,
            "left": null,
            "margin": null,
            "max_height": null,
            "max_width": null,
            "min_height": null,
            "min_width": null,
            "object_fit": null,
            "object_position": null,
            "order": null,
            "overflow": null,
            "overflow_x": null,
            "overflow_y": null,
            "padding": null,
            "right": null,
            "top": null,
            "visibility": null,
            "width": null
          }
        },
        "c6b989eea049441db36f57bea4f9705e": {
          "model_module": "@jupyter-widgets/controls",
          "model_name": "DescriptionStyleModel",
          "model_module_version": "1.5.0",
          "state": {
            "_model_module": "@jupyter-widgets/controls",
            "_model_module_version": "1.5.0",
            "_model_name": "DescriptionStyleModel",
            "_view_count": null,
            "_view_module": "@jupyter-widgets/base",
            "_view_module_version": "1.2.0",
            "_view_name": "StyleView",
            "description_width": ""
          }
        },
        "1fdb872da7c64e8184b20cd07565abd7": {
          "model_module": "@jupyter-widgets/base",
          "model_name": "LayoutModel",
          "model_module_version": "1.2.0",
          "state": {
            "_model_module": "@jupyter-widgets/base",
            "_model_module_version": "1.2.0",
            "_model_name": "LayoutModel",
            "_view_count": null,
            "_view_module": "@jupyter-widgets/base",
            "_view_module_version": "1.2.0",
            "_view_name": "LayoutView",
            "align_content": null,
            "align_items": null,
            "align_self": null,
            "border": null,
            "bottom": null,
            "display": null,
            "flex": null,
            "flex_flow": null,
            "grid_area": null,
            "grid_auto_columns": null,
            "grid_auto_flow": null,
            "grid_auto_rows": null,
            "grid_column": null,
            "grid_gap": null,
            "grid_row": null,
            "grid_template_areas": null,
            "grid_template_columns": null,
            "grid_template_rows": null,
            "height": null,
            "justify_content": null,
            "justify_items": null,
            "left": null,
            "margin": null,
            "max_height": null,
            "max_width": null,
            "min_height": null,
            "min_width": null,
            "object_fit": null,
            "object_position": null,
            "order": null,
            "overflow": null,
            "overflow_x": null,
            "overflow_y": null,
            "padding": null,
            "right": null,
            "top": null,
            "visibility": null,
            "width": null
          }
        },
        "422e11f8933f496489383a12de5c5f2b": {
          "model_module": "@jupyter-widgets/controls",
          "model_name": "ProgressStyleModel",
          "model_module_version": "1.5.0",
          "state": {
            "_model_module": "@jupyter-widgets/controls",
            "_model_module_version": "1.5.0",
            "_model_name": "ProgressStyleModel",
            "_view_count": null,
            "_view_module": "@jupyter-widgets/base",
            "_view_module_version": "1.2.0",
            "_view_name": "StyleView",
            "bar_color": null,
            "description_width": ""
          }
        },
        "a9657d96afaf42bc9def7ebecd3134fc": {
          "model_module": "@jupyter-widgets/base",
          "model_name": "LayoutModel",
          "model_module_version": "1.2.0",
          "state": {
            "_model_module": "@jupyter-widgets/base",
            "_model_module_version": "1.2.0",
            "_model_name": "LayoutModel",
            "_view_count": null,
            "_view_module": "@jupyter-widgets/base",
            "_view_module_version": "1.2.0",
            "_view_name": "LayoutView",
            "align_content": null,
            "align_items": null,
            "align_self": null,
            "border": null,
            "bottom": null,
            "display": null,
            "flex": null,
            "flex_flow": null,
            "grid_area": null,
            "grid_auto_columns": null,
            "grid_auto_flow": null,
            "grid_auto_rows": null,
            "grid_column": null,
            "grid_gap": null,
            "grid_row": null,
            "grid_template_areas": null,
            "grid_template_columns": null,
            "grid_template_rows": null,
            "height": null,
            "justify_content": null,
            "justify_items": null,
            "left": null,
            "margin": null,
            "max_height": null,
            "max_width": null,
            "min_height": null,
            "min_width": null,
            "object_fit": null,
            "object_position": null,
            "order": null,
            "overflow": null,
            "overflow_x": null,
            "overflow_y": null,
            "padding": null,
            "right": null,
            "top": null,
            "visibility": null,
            "width": null
          }
        },
        "68bed9de4274448898430f2c0cd7c272": {
          "model_module": "@jupyter-widgets/controls",
          "model_name": "DescriptionStyleModel",
          "model_module_version": "1.5.0",
          "state": {
            "_model_module": "@jupyter-widgets/controls",
            "_model_module_version": "1.5.0",
            "_model_name": "DescriptionStyleModel",
            "_view_count": null,
            "_view_module": "@jupyter-widgets/base",
            "_view_module_version": "1.2.0",
            "_view_name": "StyleView",
            "description_width": ""
          }
        }
      }
    }
  },
  "cells": [
    {
      "cell_type": "code",
      "execution_count": null,
      "metadata": {
        "id": "d7a9QDCvrMsS"
      },
      "outputs": [],
      "source": [
        "!pip install sentence-transformers>=2.7.0 transformers>=4.51.0 accelerate -q"
      ]
    },
    {
      "cell_type": "markdown",
      "source": [
        "# IMPORT LIBRARIES"
      ],
      "metadata": {
        "id": "Kaujo5iluX6y"
      }
    },
    {
      "cell_type": "code",
      "source": [
        "import pandas as pd\n",
        "import numpy as np\n",
        "from sentence_transformers import SentenceTransformer\n",
        "from sklearn.metrics.pairwise import cosine_similarity\n",
        "import re\n",
        "import pickle\n",
        "import json\n",
        "import os\n",
        "import torch\n",
        "from google.colab import files"
      ],
      "metadata": {
        "id": "We1vKXLcsFCj"
      },
      "execution_count": null,
      "outputs": []
    },
    {
      "cell_type": "markdown",
      "source": [
        "# MOUNT TO GOOGLE DRIVE"
      ],
      "metadata": {
        "id": "UQWj-y5WuVGb"
      }
    },
    {
      "cell_type": "code",
      "source": [
        "from google.colab import drive\n",
        "drive.mount('/content/drive')\n",
        "print(\"Libraries Imported and Drive Mounted!!!\")"
      ],
      "metadata": {
        "colab": {
          "base_uri": "https://localhost:8080/"
        },
        "id": "gg3XR2lotFNi",
        "outputId": "6461eb9f-1b9e-418f-8e81-787cf318989c"
      },
      "execution_count": null,
      "outputs": [
        {
          "output_type": "stream",
          "name": "stdout",
          "text": [
            "Mounted at /content/drive\n",
            "Libraries Imported and Drive Mounted!!!\n"
          ]
        }
      ]
    },
    {
      "cell_type": "markdown",
      "source": [
        "# LOAD DATA"
      ],
      "metadata": {
        "id": "iowxLJjUuLJV"
      }
    },
    {
      "cell_type": "code",
      "source": [
        "try:\n",
        "  file_path = '/content/drive/My Drive/TDATASETS/kdrama.csv'\n",
        "  df = pd.read_csv(file_path)\n",
        "  print(\"Dataset loaded successfully!!!\")\n",
        "  print(f'Dataset Shape: {df.shape}')\n",
        "except FileNotFoundError:\n",
        "  print(\"File not found!\")\n",
        "  df = None"
      ],
      "metadata": {
        "colab": {
          "base_uri": "https://localhost:8080/"
        },
        "id": "ZHbh_dX5tbUC",
        "outputId": "fd270628-2dc2-49f3-ebe2-d85a429a305e"
      },
      "execution_count": null,
      "outputs": [
        {
          "output_type": "stream",
          "name": "stdout",
          "text": [
            "Dataset loaded successfully!!!\n",
            "Dataset Shape: (250, 17)\n"
          ]
        }
      ]
    },
    {
      "cell_type": "markdown",
      "source": [
        "# CLEANING"
      ],
      "metadata": {
        "id": "HJJIU08buQr-"
      }
    },
    {
      "cell_type": "code",
      "source": [
        "if df is not None:\n",
        "    feature_columns = ['Synopsis', 'Genre', 'Tags', 'Cast', 'Name']\n",
        "    for col in feature_columns:\n",
        "        df[col] = df[col].fillna('')\n",
        "\n",
        "    def clean_text(text):\n",
        "        text = str(text)\n",
        "        text = re.sub(r'[^\\w\\s,]', '', text)\n",
        "        text = text.lower()\n",
        "        text = re.sub(r'\\s+', ' ', text).strip()\n",
        "        return text\n",
        "\n",
        "    df['clean_features'] = (\n",
        "        (df['Synopsis'].apply(clean_text) + ' ') * 3 +\n",
        "        df['Genre'].apply(clean_text) + ' ' +\n",
        "        df['Tags'].apply(clean_text) + ' ' +\n",
        "        df['Cast'].apply(clean_text) * 2\n",
        "    )\n",
        "    print(\"\\n'clean_features' column created.\")\n",
        "    corpus = df['clean_features'].tolist()"
      ],
      "metadata": {
        "colab": {
          "base_uri": "https://localhost:8080/"
        },
        "id": "z7YKNKbWuenb",
        "outputId": "67fc812b-f08d-4ec1-f3d7-ed9fd5a84551"
      },
      "execution_count": null,
      "outputs": [
        {
          "output_type": "stream",
          "name": "stdout",
          "text": [
            "\n",
            "'clean_features' column created.\n"
          ]
        }
      ]
    },
    {
      "cell_type": "markdown",
      "source": [
        "# LOAD PRE-TRAINED MODEL AND GENERATE EMBEDDINGS"
      ],
      "metadata": {
        "id": "W3QuSmZiuznh"
      }
    },
    {
      "cell_type": "code",
      "source": [
        "if df is not None:\n",
        "    model_name = 'Qwen/Qwen3-Embedding-0.6B'\n",
        "    print(f\"\\nLoading Sentence Transformer model: {model_name}...\")\n",
        "\n",
        "    device = 'cuda' if torch.cuda.is_available() else 'cpu'\n",
        "    print(f\"Using device: {device}\")\n",
        "    model = SentenceTransformer(model_name, device=device)\n",
        "    print(\"Model loaded.\")\n",
        "\n",
        "    print(\"\\nGenerating embeddings... (This may take a few minutes)\")\n",
        "    embeddings = model.encode(corpus, show_progress_bar=True, batch_size=16)\n",
        "    print(f\"Embeddings generated successfully! Shape: {embeddings.shape}\")"
      ],
      "metadata": {
        "colab": {
          "base_uri": "https://localhost:8080/",
          "height": 171,
          "referenced_widgets": [
            "8b761f28d96240bfa6e080c7e54f3efc",
            "d32bf9c2f43a4a6da159080f812d80b9",
            "6c6d1fdf3ae24e829d7018658621d9bb",
            "c04bcc0d83d748a68c93e4f350349e63",
            "3ac49db5732e43d3ae900c7c0476b853",
            "a8749d85b92e44bc9895f6d0b0e97b97",
            "c6b989eea049441db36f57bea4f9705e",
            "1fdb872da7c64e8184b20cd07565abd7",
            "422e11f8933f496489383a12de5c5f2b",
            "a9657d96afaf42bc9def7ebecd3134fc",
            "68bed9de4274448898430f2c0cd7c272"
          ]
        },
        "id": "m_e74kFgu4Rh",
        "outputId": "b43c6adc-b1f9-453e-8de1-fc43230da221"
      },
      "execution_count": null,
      "outputs": [
        {
          "output_type": "stream",
          "name": "stdout",
          "text": [
            "\n",
            "Loading Sentence Transformer model: Qwen/Qwen3-Embedding-0.6B...\n",
            "Using device: cuda\n",
            "Model loaded.\n",
            "\n",
            "Generating embeddings... (This may take a few minutes)\n"
          ]
        },
        {
          "output_type": "display_data",
          "data": {
            "text/plain": [
              "Batches:   0%|          | 0/16 [00:00<?, ?it/s]"
            ],
            "application/vnd.jupyter.widget-view+json": {
              "version_major": 2,
              "version_minor": 0,
              "model_id": "8b761f28d96240bfa6e080c7e54f3efc"
            }
          },
          "metadata": {}
        },
        {
          "output_type": "stream",
          "name": "stdout",
          "text": [
            "Embeddings generated successfully! Shape: (250, 1024)\n"
          ]
        }
      ]
    },
    {
      "cell_type": "markdown",
      "source": [
        "# SAVE EMBEDDINGS"
      ],
      "metadata": {
        "id": "DgrxllltvKt_"
      }
    },
    {
      "cell_type": "code",
      "source": [
        "if df is not None:\n",
        "    print(\"\\nCalculating cosine similarity matrix...\")\n",
        "    cosine_sim = cosine_similarity(embeddings)\n",
        "    print(f\"Similarity matrix calculated! Shape: {cosine_sim.shape}\")\n",
        "\n",
        "    dramas_data = df[['Name', 'Genre', 'Tags']].to_dict('records')\n",
        "    similarity_list = cosine_sim.tolist()\n",
        "\n",
        "    output_data_json = 'kdrama_data_QWEN_V3.json'\n",
        "    output_matrix_json = 'kdrama_similarity_matrix_QWEN_V3.json'\n",
        "\n",
        "    with open(output_data_json, 'w') as f:\n",
        "        json.dump(dramas_data, f)\n",
        "    print(f\"\\n K-Drama data saved as: {output_data_json}\")\n",
        "\n",
        "    with open(output_matrix_json, 'w') as f:\n",
        "        json.dump(similarity_list, f)\n",
        "    print(f\"Similarity matrix saved as: {output_matrix_json}\")\n",
        "\n",
        "    print(\"\\nDownloading files to your local computer...\")\n",
        "    files.download(output_data_json)\n",
        "    files.download(output_matrix_json)\n",
        "    print(\"Download complete!\")"
      ],
      "metadata": {
        "colab": {
          "base_uri": "https://localhost:8080/",
          "height": 173
        },
        "id": "EqYQoFWOvIL8",
        "outputId": "3a204305-f48a-4fd0-8fae-532b56aa8841"
      },
      "execution_count": null,
      "outputs": [
        {
          "output_type": "stream",
          "name": "stdout",
          "text": [
            "\n",
            "Calculating cosine similarity matrix...\n",
            "Similarity matrix calculated! Shape: (250, 250)\n",
            "\n",
            " K-Drama data saved as: kdrama_data_QWEN_V3.json\n",
            "Similarity matrix saved as: kdrama_similarity_matrix_QWEN_V3.json\n",
            "\n",
            "Downloading files to your local computer...\n"
          ]
        },
        {
          "output_type": "display_data",
          "data": {
            "text/plain": [
              "<IPython.core.display.Javascript object>"
            ],
            "application/javascript": [
              "\n",
              "    async function download(id, filename, size) {\n",
              "      if (!google.colab.kernel.accessAllowed) {\n",
              "        return;\n",
              "      }\n",
              "      const div = document.createElement('div');\n",
              "      const label = document.createElement('label');\n",
              "      label.textContent = `Downloading \"${filename}\": `;\n",
              "      div.appendChild(label);\n",
              "      const progress = document.createElement('progress');\n",
              "      progress.max = size;\n",
              "      div.appendChild(progress);\n",
              "      document.body.appendChild(div);\n",
              "\n",
              "      const buffers = [];\n",
              "      let downloaded = 0;\n",
              "\n",
              "      const channel = await google.colab.kernel.comms.open(id);\n",
              "      // Send a message to notify the kernel that we're ready.\n",
              "      channel.send({})\n",
              "\n",
              "      for await (const message of channel.messages) {\n",
              "        // Send a message to notify the kernel that we're ready.\n",
              "        channel.send({})\n",
              "        if (message.buffers) {\n",
              "          for (const buffer of message.buffers) {\n",
              "            buffers.push(buffer);\n",
              "            downloaded += buffer.byteLength;\n",
              "            progress.value = downloaded;\n",
              "          }\n",
              "        }\n",
              "      }\n",
              "      const blob = new Blob(buffers, {type: 'application/binary'});\n",
              "      const a = document.createElement('a');\n",
              "      a.href = window.URL.createObjectURL(blob);\n",
              "      a.download = filename;\n",
              "      div.appendChild(a);\n",
              "      a.click();\n",
              "      div.remove();\n",
              "    }\n",
              "  "
            ]
          },
          "metadata": {}
        },
        {
          "output_type": "display_data",
          "data": {
            "text/plain": [
              "<IPython.core.display.Javascript object>"
            ],
            "application/javascript": [
              "download(\"download_31fbc07d-2f0b-48d7-a6d3-3c4fd589f7b0\", \"kdrama_data_QWEN_V3.json\", 60968)"
            ]
          },
          "metadata": {}
        },
        {
          "output_type": "display_data",
          "data": {
            "text/plain": [
              "<IPython.core.display.Javascript object>"
            ],
            "application/javascript": [
              "\n",
              "    async function download(id, filename, size) {\n",
              "      if (!google.colab.kernel.accessAllowed) {\n",
              "        return;\n",
              "      }\n",
              "      const div = document.createElement('div');\n",
              "      const label = document.createElement('label');\n",
              "      label.textContent = `Downloading \"${filename}\": `;\n",
              "      div.appendChild(label);\n",
              "      const progress = document.createElement('progress');\n",
              "      progress.max = size;\n",
              "      div.appendChild(progress);\n",
              "      document.body.appendChild(div);\n",
              "\n",
              "      const buffers = [];\n",
              "      let downloaded = 0;\n",
              "\n",
              "      const channel = await google.colab.kernel.comms.open(id);\n",
              "      // Send a message to notify the kernel that we're ready.\n",
              "      channel.send({})\n",
              "\n",
              "      for await (const message of channel.messages) {\n",
              "        // Send a message to notify the kernel that we're ready.\n",
              "        channel.send({})\n",
              "        if (message.buffers) {\n",
              "          for (const buffer of message.buffers) {\n",
              "            buffers.push(buffer);\n",
              "            downloaded += buffer.byteLength;\n",
              "            progress.value = downloaded;\n",
              "          }\n",
              "        }\n",
              "      }\n",
              "      const blob = new Blob(buffers, {type: 'application/binary'});\n",
              "      const a = document.createElement('a');\n",
              "      a.href = window.URL.createObjectURL(blob);\n",
              "      a.download = filename;\n",
              "      div.appendChild(a);\n",
              "      a.click();\n",
              "      div.remove();\n",
              "    }\n",
              "  "
            ]
          },
          "metadata": {}
        },
        {
          "output_type": "display_data",
          "data": {
            "text/plain": [
              "<IPython.core.display.Javascript object>"
            ],
            "application/javascript": [
              "download(\"download_0262615a-72e3-48ac-a6f4-021e1b8d1b78\", \"kdrama_similarity_matrix_QWEN_V3.json\", 1269424)"
            ]
          },
          "metadata": {}
        },
        {
          "output_type": "stream",
          "name": "stdout",
          "text": [
            "Download complete!\n"
          ]
        }
      ]
    }
  ]
}